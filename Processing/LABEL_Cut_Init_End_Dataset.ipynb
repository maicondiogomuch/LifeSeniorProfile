{
 "cells": [
  {
   "cell_type": "code",
   "execution_count": 101,
   "id": "c744f598-27d7-4f5b-8502-267065fd5155",
   "metadata": {
    "tags": []
   },
   "outputs": [
    {
     "name": "stdout",
     "output_type": "stream",
     "text": [
      "Lifesenior/AVD_D_2/V10_AVD_D_2.csv\n"
     ]
    }
   ],
   "source": [
    "import pandas as pd\n",
    "import os\n",
    "\n",
    "#AVD_A_1 - STOPPED - 0\n",
    "#AVD_A_2 - WALKING - 1\n",
    "#AVD_A_3 - GETTING UP AND SITTING ON CHAIR - 2\n",
    "#AVD_A_4 - SQUATTING AND COMING BACK - 3\n",
    "#AVD_A_5 - LAYING DOWN AND GETTING UP - 4\n",
    "#AVD_D_1 - STOPPED - 0\n",
    "#AVD_D_2 - WALKING - 1\n",
    "#AVD_D_3 - GETTING UP AND SITTING ON CHAIR - 2\n",
    "#AVD_D_4 - SQUATTING AND COMING BACK - 3\n",
    "#AVD_D_5 - LAYING DOWN AND GETTING UP - 4\n",
    "#AVD_G_1 - STOPPED - 0\n",
    "#AVD_G_2 - WALKING - 1\n",
    "#AVD_G_3 - GETTING UP AND SITTING ON CHAIR - 2\n",
    "#AVD_G_4 - SQUATTING AND COMING BACK - 3\n",
    "#AVD_G_5 - LAYING DOWN AND GETTING UP - 4\n",
    "#PDE_A_6 - SITTING AND STANDING UP LOSS OF BALANCE - 5\n",
    "#PDE_A_7 - STANDING AND SITTING LOSS OF BALANCE - 6\n",
    "#PDE_A_8 - CHANGING DIRECTION LOSS OF BALANCE - 7\n",
    "#PDE_A_9 - REACHING OBJECT LOSS OF BALANCE - 8\n",
    "#PDE_D_6 - SITTING AND STANDING UP LOSS OF BALANCE - 5\n",
    "#PDE_D_7 - STANDING AND SITTING LOSS OF BALANCE - 6\n",
    "#PDE_D_8 - CHANGING DIRECTION LOSS OF BALANCE - 7\n",
    "#PDE_D_9 - REACHING OBJECT LOSS OF BALANCE - 8\n",
    "#PDE_G_6 - SITTING AND STANDING UP LOSS OF BALANCE - 5\n",
    "#PDE_G_7 - STANDING AND SITTING LOSS OF BALANCE - 6\n",
    "#PDE_G_8 - CHANGING DIRECTION LOSS OF BALANCE - 7\n",
    "#PDE_G_9 - REACHING OBJECT LOSS OF BALANCE - 8\n",
    "#QD_A_10 - OBSTACLE FALL - 9\n",
    "#QD_A_11 - FALL CADENCE CONTINUITY - 10\n",
    "#QD_A_12 - FALL SYNCOPE - 11\n",
    "#QD_D_10 - OBSTACLE FALL - 9\n",
    "#QD_D_11 - FALL CADENCE CONTINUITY - 10\n",
    "#QD_D_12 - FALL SYNCOPE - 11\n",
    "#QD_G_10 - OBSTACLE FALL - 9\n",
    "#QD_G_11 - FALL CADENCE CONTINUITY - 10\n",
    "#QD_G_12 - FALL SYNCOPE - 11\n",
    "\n",
    "LABEL = 1 \n",
    "\n",
    "PARTICIPANTE = 10\n",
    "\n",
    "\n",
    "ATIVIDADE = 'AVD'\n",
    "MARCHA = 'D'\n",
    "SEQUENCIA = 2\n",
    "\n",
    "print('Lifesenior/'+ATIVIDADE+'_'+MARCHA+'_'+str(SEQUENCIA)+'/V'+str(PARTICIPANTE)+'_'+ATIVIDADE+'_'+MARCHA+'_'+str(SEQUENCIA)+'.csv')\n"
   ]
  },
  {
   "cell_type": "code",
   "execution_count": 102,
   "id": "6f116f53-5097-4eaa-832d-ebbae065ee7c",
   "metadata": {
    "tags": []
   },
   "outputs": [],
   "source": [
    "# Creating Empty DataFrame and Storing it in variable df\n",
    "df = pd.DataFrame()\n",
    " \n",
    "df.insert(0, \"label\", [LABEL])"
   ]
  },
  {
   "cell_type": "code",
   "execution_count": 103,
   "id": "790c8f0e-075b-47ec-babe-a27560197ecc",
   "metadata": {},
   "outputs": [],
   "source": [
    "dataLifeSenior = pd.read_csv('Lifesenior/'+ATIVIDADE+'_'+MARCHA+'_'+str(SEQUENCIA)+'/V'+str(PARTICIPANTE)+'_'+ATIVIDADE+'_'+MARCHA+'_'+str(SEQUENCIA)+'.csv',index_col=False)\n",
    "#print(dataLifeSenior.shape[0])"
   ]
  },
  {
   "cell_type": "code",
   "execution_count": 104,
   "id": "6769d17d-cef0-41fe-8567-f16168bd29fb",
   "metadata": {
    "tags": []
   },
   "outputs": [
    {
     "name": "stdout",
     "output_type": "stream",
     "text": [
      "        acc_x     acc_y     acc_z   bvp       eda    hr   temp  label\n",
      "0   -0.312500 -0.906250  0.203125  0.12  0.398494  64.0  24.77      1\n",
      "1   -0.296875 -0.937500  0.203125 -0.66  0.398494  64.0  24.77      1\n",
      "2   -0.250000 -0.843750  0.234375 -1.88  0.398494  64.0  24.77      1\n",
      "3   -0.234375 -0.890625  0.218750 -3.19  0.398494  64.0  24.77      1\n",
      "4   -0.390625 -0.906250  0.265625 -4.45  0.398494  64.0  24.77      1\n",
      "..        ...       ...       ...   ...       ...   ...    ...    ...\n",
      "593 -0.250000 -0.984375  0.265625 -0.94  0.388243  83.8  24.83      1\n",
      "594 -0.343750 -0.875000  0.250000 -1.41  0.388243  83.8  24.83      1\n",
      "595 -0.296875 -0.875000  0.359375 -1.37  0.388243  83.8  24.83      1\n",
      "596 -0.343750 -0.906250  0.265625 -0.74  0.388243  83.8  24.83      1\n",
      "597 -0.343750 -0.921875  0.250000 -0.38  0.388243  83.8  24.83      1\n",
      "\n",
      "[598 rows x 8 columns]\n"
     ]
    }
   ],
   "source": [
    "df = df.loc[df.index.repeat(dataLifeSenior.shape[0])]\n",
    "dataLifeSenior[\"label\"] = df.values\n",
    "print(dataLifeSenior)"
   ]
  },
  {
   "cell_type": "code",
   "execution_count": 105,
   "id": "73f1546d-209e-40f9-a7c6-71cc1f08ce32",
   "metadata": {
    "tags": []
   },
   "outputs": [],
   "source": [
    "#export the file to specific activity\n",
    "dataLifeSenior.to_csv('Lifesenior/'+ATIVIDADE+'_'+MARCHA+'_'+str(SEQUENCIA)+'/V'+str(PARTICIPANTE)+'_'+ATIVIDADE+'_'+MARCHA+'_'+str(SEQUENCIA)+'.csv', index=False)"
   ]
  },
  {
   "cell_type": "code",
   "execution_count": null,
   "id": "75071e3f-25fe-4368-87df-c03d00dbdeff",
   "metadata": {},
   "outputs": [],
   "source": []
  },
  {
   "cell_type": "code",
   "execution_count": null,
   "id": "d79bed63-5f74-4d0e-aeca-e483941bc989",
   "metadata": {},
   "outputs": [],
   "source": []
  },
  {
   "cell_type": "code",
   "execution_count": null,
   "id": "1993efe9-96f9-4bdc-b9b8-149a070e0448",
   "metadata": {},
   "outputs": [],
   "source": []
  }
 ],
 "metadata": {
  "kernelspec": {
   "display_name": "Python 3 (ipykernel)",
   "language": "python",
   "name": "python3"
  },
  "language_info": {
   "codemirror_mode": {
    "name": "ipython",
    "version": 3
   },
   "file_extension": ".py",
   "mimetype": "text/x-python",
   "name": "python",
   "nbconvert_exporter": "python",
   "pygments_lexer": "ipython3",
   "version": "3.11.5"
  }
 },
 "nbformat": 4,
 "nbformat_minor": 5
}
